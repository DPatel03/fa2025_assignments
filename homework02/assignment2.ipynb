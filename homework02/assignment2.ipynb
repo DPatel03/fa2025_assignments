{
 "cells": [
  {
   "cell_type": "code",
   "execution_count": 1,
   "metadata": {
    "deletable": false,
    "editable": false
   },
   "outputs": [],
   "source": [
    "# Initialize Otter\n",
    "import otter\n",
    "grader = otter.Notebook(\"assignment2.ipynb\")"
   ]
  },
  {
   "cell_type": "code",
   "execution_count": 2,
   "metadata": {},
   "outputs": [],
   "source": [
    "import numpy as np\n",
    "import matplotlib.pyplot as plt"
   ]
  },
  {
   "cell_type": "markdown",
   "metadata": {},
   "source": [
    "# Probability, Statistics and Distances Homework\n",
    "\n",
    "Please complete the following assignment. Run all cells and submit your completed notebook through Gradescope.\n",
    "\n",
    "This assignment covers the following topics:\n",
    "\n",
    "- Frequentist vs Bayesian probability\n",
    "- Definition of probability\n",
    "- Conditional probability and Bayes theorem\n",
    "- Random variables\n",
    "- Expectation, variance, and covariance\n",
    "- Binomial distribution\n",
    "- Poisson distribution\n",
    "- Gaussian distribution\n",
    "- Jaccard Index\n",
    "- Euclidean Distances"
   ]
  },
  {
   "cell_type": "markdown",
   "metadata": {
    "deletable": false,
    "editable": false
   },
   "source": [
    "<!-- BEGIN QUESTION -->\n",
    "\n",
    "#### 1. Which of the following statements best describes the Bayesian interpretation of probability?\n",
    "\n",
    "    A) Probability is the long-run relative frequency of an event occurring in repeated trials.\n",
    "    B) Probability represents a degree of belief or confidence in the occurrence of an event.\n",
    "    C) Probability is the ratio of favorable outcomes to the total number of equally likely outcomes.\n",
    "    D) Probability is the measure of the likelihood that a random variable takes a specific value.\n"
   ]
  },
  {
   "cell_type": "markdown",
   "metadata": {
    "tags": [
     "otter_answer_cell"
    ]
   },
   "source": [
    "_Type your answer here, replacing this text._"
   ]
  },
  {
   "cell_type": "markdown",
   "metadata": {
    "deletable": false,
    "editable": false,
    "vscode": {
     "languageId": "raw"
    }
   },
   "source": [
    "<!-- END QUESTION -->\n",
    "\n",
    "#### 2. Write a function `time_to_six() -> tuple` that simulates rolling a fair six-sided die repeatedly until a `6` appears.  \n",
    "The function should return a tuple `(rolls, count)`  "
   ]
  },
  {
   "cell_type": "code",
   "execution_count": 11,
   "metadata": {
    "tags": [
     "otter_answer_cell"
    ]
   },
   "outputs": [],
   "source": [
    "import numpy as np\n",
    "\n",
    "def time_to_six() -> tuple:\n",
    "    roll = []\n",
    "    while True:\n",
    "        a = np.random.randint(1, 7)\n",
    "        roll.append(a)\n",
    "        if a == 6:\n",
    "            break\n",
    "    return (roll,len(roll) )\n",
    "    \n",
    "    ..."
   ]
  },
  {
   "cell_type": "code",
   "execution_count": 12,
   "metadata": {
    "deletable": false,
    "editable": false
   },
   "outputs": [
    {
     "data": {
      "text/html": [
       "<p><strong><pre style='display: inline;'>q2</pre></strong> passed! 🎉</p>"
      ],
      "text/plain": [
       "q2 results: All test cases passed!"
      ]
     },
     "execution_count": 12,
     "metadata": {},
     "output_type": "execute_result"
    }
   ],
   "source": [
    "grader.check(\"q2\")"
   ]
  },
  {
   "cell_type": "markdown",
   "metadata": {
    "deletable": false,
    "editable": false,
    "vscode": {
     "languageId": "raw"
    }
   },
   "source": [
    "#### Question 3. \n",
    "\n",
    "Suppose that 0.5% of all credit card transactions are fraudulent. A fraud detection system correctly flags fraudulent transactions 96% of the time (sensitivity), and incorrectly flags legitimate transactions 3% of the time (false positive rate). If a randomly selected transaction is flagged, what is the probability that it is actually fraudulent?\n",
    "\n",
    "    Return your answer as a float between 0 and 1."
   ]
  },
  {
   "cell_type": "code",
   "execution_count": null,
   "metadata": {
    "tags": [
     "otter_answer_cell"
    ]
   },
   "outputs": [],
   "source": [
    "def answer3():\n",
    "    P_F = 0.005         \n",
    "    P_not_F = 0.995     \n",
    "    P_Flag_given_F = 0.96      \n",
    "    P_Flag_given_not_F = 0.03  \n",
    "    # Total probability that a transaction is flagged\n",
    "    P_Flag = P_Flag_given_F * P_F + P_Flag_given_not_F * P_not_F\n",
    "    \n",
    "    P_F_given_Flag = (P_Flag_given_F * P_F) / P_Flag\n",
    "    \n",
    "    return P_F_given_Flag\n",
    "    \n",
    "    \n",
    "    ..."
   ]
  },
  {
   "cell_type": "code",
   "execution_count": 15,
   "metadata": {
    "deletable": false,
    "editable": false
   },
   "outputs": [
    {
     "data": {
      "text/html": [
       "<p><strong><pre style='display: inline;'>q3</pre></strong> passed! ✨</p>"
      ],
      "text/plain": [
       "q3 results: All test cases passed!"
      ]
     },
     "execution_count": 15,
     "metadata": {},
     "output_type": "execute_result"
    }
   ],
   "source": [
    "grader.check(\"q3\")"
   ]
  },
  {
   "cell_type": "markdown",
   "metadata": {
    "deletable": false,
    "editable": false,
    "vscode": {
     "languageId": "raw"
    }
   },
   "source": [
    "#### Question 4. \n",
    "\n",
    "Let X be a discrete random variable that takes the values 1, 3, 5 with probabilities P(X=1)=0.4, P(X=3)=0.2, P(X=5)=0.4.\n",
    "\n",
    "- Compute the expected value E[X].  \n",
    "- Return your answer as a float.  "
   ]
  },
  {
   "cell_type": "code",
   "execution_count": 16,
   "metadata": {
    "tags": [
     "otter_answer_cell"
    ]
   },
   "outputs": [],
   "source": [
    "def ans4():\n",
    "    return 1*0.4 + 3*0.2 + 5*0.4\n",
    "    ..."
   ]
  },
  {
   "cell_type": "code",
   "execution_count": 17,
   "metadata": {
    "deletable": false,
    "editable": false
   },
   "outputs": [
    {
     "data": {
      "text/html": [
       "<p><strong><pre style='display: inline;'>q4</pre></strong> passed! 💯</p>"
      ],
      "text/plain": [
       "q4 results: All test cases passed!"
      ]
     },
     "execution_count": 17,
     "metadata": {},
     "output_type": "execute_result"
    }
   ],
   "source": [
    "grader.check(\"q4\")"
   ]
  },
  {
   "cell_type": "markdown",
   "metadata": {
    "deletable": false,
    "editable": false,
    "vscode": {
     "languageId": "raw"
    }
   },
   "source": [
    "####  Question 5. \n",
    "\n",
    "Let X be a random variable as in Question 4. Compute the variance Var(X).\n",
    "-    Return your answer as a float."
   ]
  },
  {
   "cell_type": "code",
   "execution_count": 18,
   "metadata": {
    "tags": [
     "otter_answer_cell"
    ]
   },
   "outputs": [],
   "source": [
    "def ans5():\n",
    "    E_X = ans4() \n",
    "    E_X2 = 1**2*0.4 + 3**2*0.2 + 5**2*0.4\n",
    "    var_X = E_X2 - E_X**2\n",
    "    return var_X  \n",
    "    ...\n"
   ]
  },
  {
   "cell_type": "code",
   "execution_count": 19,
   "metadata": {
    "tags": [
     "otter_answer_cell"
    ]
   },
   "outputs": [
    {
     "data": {
      "text/plain": [
       "3.1999999999999993"
      ]
     },
     "execution_count": 19,
     "metadata": {},
     "output_type": "execute_result"
    }
   ],
   "source": [
    "ans5()"
   ]
  },
  {
   "cell_type": "code",
   "execution_count": 20,
   "metadata": {
    "deletable": false,
    "editable": false
   },
   "outputs": [
    {
     "data": {
      "text/html": [
       "<p><strong><pre style='display: inline;'>q5</pre></strong> passed! 🙌</p>"
      ],
      "text/plain": [
       "q5 results: All test cases passed!"
      ]
     },
     "execution_count": 20,
     "metadata": {},
     "output_type": "execute_result"
    }
   ],
   "source": [
    "grader.check(\"q5\")"
   ]
  },
  {
   "cell_type": "markdown",
   "metadata": {
    "deletable": false,
    "editable": false,
    "vscode": {
     "languageId": "raw"
    }
   },
   "source": [
    "#### Question 6. \n",
    "\n",
    "A fair coin is tossed 10 times. What is the probability of getting exactly 6 heads?\n",
    "\n",
    "    Return your answer as a float."
   ]
  },
  {
   "cell_type": "code",
   "execution_count": 21,
   "metadata": {
    "tags": [
     "otter_answer_cell"
    ]
   },
   "outputs": [],
   "source": [
    "from math import comb\n",
    "def ans6():\n",
    "    n = 10\n",
    "    p = .5\n",
    "    k = 6\n",
    "    prob = comb(n,k) * (p**k) * ((1-p)**(n-k))\n",
    "    return prob\n",
    "    ..."
   ]
  },
  {
   "cell_type": "code",
   "execution_count": 22,
   "metadata": {
    "tags": [
     "otter_answer_cell"
    ]
   },
   "outputs": [
    {
     "data": {
      "text/plain": [
       "0.205078125"
      ]
     },
     "execution_count": 22,
     "metadata": {},
     "output_type": "execute_result"
    }
   ],
   "source": [
    "ans6()"
   ]
  },
  {
   "cell_type": "code",
   "execution_count": 23,
   "metadata": {
    "deletable": false,
    "editable": false
   },
   "outputs": [
    {
     "data": {
      "text/html": [
       "<p><strong><pre style='display: inline;'>q6</pre></strong> passed! 💯</p>"
      ],
      "text/plain": [
       "q6 results: All test cases passed!"
      ]
     },
     "execution_count": 23,
     "metadata": {},
     "output_type": "execute_result"
    }
   ],
   "source": [
    "grader.check(\"q6\")"
   ]
  },
  {
   "cell_type": "markdown",
   "metadata": {
    "deletable": false,
    "editable": false,
    "vscode": {
     "languageId": "raw"
    }
   },
   "source": [
    "#### Question 7. \n",
    "\n",
    "A radioactive source emits particles following a Poisson distribution with an average rate of λ = 4 particles per minute. \n",
    "\n",
    "    What is the probability that exactly 6 particles are emitted in a given minute?\n",
    "\n",
    "    Return your answer as a float."
   ]
  },
  {
   "cell_type": "code",
   "execution_count": 24,
   "metadata": {
    "tags": [
     "otter_answer_cell"
    ]
   },
   "outputs": [],
   "source": [
    "from scipy.stats import poisson\n",
    "def ans7():\n",
    "    λ = 4\n",
    "    k = 6\n",
    "    prob = poisson.pmf(k, λ)\n",
    "    return prob \n",
    "    ..."
   ]
  },
  {
   "cell_type": "code",
   "execution_count": 27,
   "metadata": {
    "deletable": false,
    "editable": false
   },
   "outputs": [
    {
     "data": {
      "text/html": [
       "<p><strong><pre style='display: inline;'>q7</pre></strong> passed! 💯</p>"
      ],
      "text/plain": [
       "q7 results: All test cases passed!"
      ]
     },
     "execution_count": 27,
     "metadata": {},
     "output_type": "execute_result"
    }
   ],
   "source": [
    "grader.check(\"q7\")"
   ]
  },
  {
   "cell_type": "markdown",
   "metadata": {
    "deletable": false,
    "editable": false
   },
   "source": [
    "#### Question 8. \n",
    "\n",
    "Assuming that the heights of adult males are normally distributed with a mean of 70 inches and a standard deviation of 3 inches, what is the probability that a randomly selected male is taller than 75 inches?\n",
    "\n",
    "    Return your answer as a float."
   ]
  },
  {
   "cell_type": "code",
   "execution_count": 25,
   "metadata": {
    "tags": [
     "otter_answer_cell"
    ]
   },
   "outputs": [
    {
     "data": {
      "text/plain": [
       "np.float64(0.047790352272814696)"
      ]
     },
     "execution_count": 25,
     "metadata": {},
     "output_type": "execute_result"
    }
   ],
   "source": [
    "from scipy.stats import norm\n",
    "def ans8():\n",
    "    mu = 70\n",
    "    sigma = 3\n",
    "    x = 75\n",
    "    prob = 1 - norm.cdf(x, loc=mu, scale=sigma)\n",
    "    return prob\n",
    "    ...\n",
    "\n",
    "ans8()"
   ]
  },
  {
   "cell_type": "code",
   "execution_count": 26,
   "metadata": {
    "deletable": false,
    "editable": false
   },
   "outputs": [
    {
     "data": {
      "text/html": [
       "<p><strong><pre style='display: inline;'>q8</pre></strong> passed! 🍀</p>"
      ],
      "text/plain": [
       "q8 results: All test cases passed!"
      ]
     },
     "execution_count": 26,
     "metadata": {},
     "output_type": "execute_result"
    }
   ],
   "source": [
    "grader.check(\"q8\")"
   ]
  },
  {
   "cell_type": "markdown",
   "metadata": {
    "deletable": false,
    "editable": false
   },
   "source": [
    "## Submission\n",
    "\n",
    "Make sure you have run all cells in your notebook in order before running the cell below, so that all images/graphs appear in the output. The cell below will generate a zip file for you to submit. **Please save before exporting!**"
   ]
  },
  {
   "cell_type": "code",
   "execution_count": null,
   "metadata": {
    "deletable": false,
    "editable": false
   },
   "outputs": [],
   "source": [
    "# Save your notebook first, then run this cell to export your submission.\n",
    "grader.export(run_tests=True)"
   ]
  },
  {
   "cell_type": "markdown",
   "metadata": {},
   "source": [
    " "
   ]
  }
 ],
 "metadata": {
  "kernelspec": {
   "display_name": "env",
   "language": "python",
   "name": "python3"
  },
  "language_info": {
   "codemirror_mode": {
    "name": "ipython",
    "version": 3
   },
   "file_extension": ".py",
   "mimetype": "text/x-python",
   "name": "python",
   "nbconvert_exporter": "python",
   "pygments_lexer": "ipython3",
   "version": "3.12.4"
  },
  "otter": {
   "OK_FORMAT": true,
   "tests": {
    "q2": {
     "name": "q2",
     "points": 1,
     "suites": [
      {
       "cases": [
        {
         "code": ">>> (rolls, count) = time_to_six()\n>>> assert isinstance(rolls, list)\n>>> assert isinstance(count, int)\n>>> assert all((1 <= x <= 6 for x in rolls))\n>>> assert rolls[-1] == 6\n>>> assert count == len(rolls)\n",
         "hidden": false,
         "locked": false
        }
       ],
       "scored": true,
       "setup": "",
       "teardown": "",
       "type": "doctest"
      }
     ]
    },
    "q3": {
     "name": "q3",
     "points": 1,
     "suites": [
      {
       "cases": [
        {
         "code": ">>> assert answer3() > 0.13 and answer3() < 0.15\n>>> assert type(answer3()) == float\n",
         "hidden": false,
         "locked": false
        }
       ],
       "scored": true,
       "setup": "",
       "teardown": "",
       "type": "doctest"
      }
     ]
    },
    "q4": {
     "name": "q4",
     "points": 1,
     "suites": [
      {
       "cases": [
        {
         "code": ">>> assert type(ans4()) == float\n>>> assert 2.9 < ans4() < 3.1\n",
         "hidden": false,
         "locked": false
        }
       ],
       "scored": true,
       "setup": "",
       "teardown": "",
       "type": "doctest"
      }
     ]
    },
    "q5": {
     "name": "q5",
     "points": 1,
     "suites": [
      {
       "cases": [
        {
         "code": ">>> assert type(ans5()) == float\n>>> assert abs(ans5() - 3.2) < 1e-09\n>>> assert 3.19 < ans5() < 3.21\n",
         "hidden": false,
         "locked": false
        }
       ],
       "scored": true,
       "setup": "",
       "teardown": "",
       "type": "doctest"
      }
     ]
    },
    "q6": {
     "name": "q6",
     "points": 1,
     "suites": [
      {
       "cases": [
        {
         "code": ">>> assert type(ans6()) == float\n>>> assert 0.2 < ans6() < 0.21\n>>> assert abs(ans6()) - 0.2 < 0.05\n",
         "hidden": false,
         "locked": false
        }
       ],
       "scored": true,
       "setup": "",
       "teardown": "",
       "type": "doctest"
      }
     ]
    },
    "q7": {
     "name": "q7",
     "points": 1,
     "suites": [
      {
       "cases": [
        {
         "code": ">>> def test_ans7(ans7):\n...     assert type(ans7()) == float\n...     assert 0.1 < ans7() < 0.11\n...     assert abs(ans7()) - 0.1 < 0.0042\n",
         "hidden": false,
         "locked": false
        }
       ],
       "scored": true,
       "setup": "",
       "teardown": "",
       "type": "doctest"
      }
     ]
    },
    "q8": {
     "name": "q8",
     "points": 1,
     "suites": [
      {
       "cases": [
        {
         "code": ">>> def test_ans8(ans8):\n...     assert type(ans8()) == float\n...     assert 0.04 < abs(ans8()) < 0.05\n",
         "hidden": false,
         "locked": false
        }
       ],
       "scored": true,
       "setup": "",
       "teardown": "",
       "type": "doctest"
      }
     ]
    }
   }
  }
 },
 "nbformat": 4,
 "nbformat_minor": 2
}
